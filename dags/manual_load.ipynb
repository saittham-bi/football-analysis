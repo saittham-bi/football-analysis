{
 "cells": [
  {
   "cell_type": "code",
   "execution_count": 1,
   "metadata": {},
   "outputs": [],
   "source": [
    "import pandas as pd\n",
    "import numpy as np\n",
    "import duckdb\n",
    "import http.client\n",
    "from datetime import datetime, timedelta\n",
    "import functions.fbref_functions as func\n",
    "import functions.kdrive_functions as kdrive\n",
    "import tempfile\n",
    "from dotenv import load_dotenv\n",
    "import os\n",
    "import ssl\n",
    "ssl._create_default_https_context = ssl._create_unverified_context"
   ]
  },
  {
   "cell_type": "code",
   "execution_count": 2,
   "metadata": {},
   "outputs": [],
   "source": [
    "## Load dotenv variables\n",
    "load_dotenv()\n",
    "\n",
    "#Initialize duckdb with postgres connector    \n",
    "cursor = duckdb.connect()\n",
    "cursor.sql(\"INSTALL postgres;\")\n",
    "cursor.sql(\"LOAD postgres;\")\n",
    "cursor.sql(f\"\"\"\n",
    "           ATTACH 'dbname=football user={os.getenv(\"PG_SPORTANALYTICS_USER\")} password={os.getenv(\"PG_SPORTANALYTICS_PASSWORD\")} \n",
    "           host={os.getenv(\"PG_SPORTANALYTICS_HOST\")}' AS postgres_db (TYPE POSTGRES);\n",
    "           \"\"\")"
   ]
  },
  {
   "cell_type": "code",
   "execution_count": 3,
   "metadata": {},
   "outputs": [],
   "source": [
    "competition_url = 'https://fbref.com/en/comps/33/history/2-Bundesliga-Seasons'\n",
    "fb_stats = func.fbrefStats(competition_url)\n",
    "df = fb_stats.get_fixtures()"
   ]
  },
  {
   "cell_type": "code",
   "execution_count": 4,
   "metadata": {},
   "outputs": [
    {
     "data": {
      "text/html": [
       "<div>\n",
       "<style scoped>\n",
       "    .dataframe tbody tr th:only-of-type {\n",
       "        vertical-align: middle;\n",
       "    }\n",
       "\n",
       "    .dataframe tbody tr th {\n",
       "        vertical-align: top;\n",
       "    }\n",
       "\n",
       "    .dataframe thead th {\n",
       "        text-align: right;\n",
       "    }\n",
       "</style>\n",
       "<table border=\"1\" class=\"dataframe\">\n",
       "  <thead>\n",
       "    <tr style=\"text-align: right;\">\n",
       "      <th></th>\n",
       "      <th>round</th>\n",
       "      <th>wk</th>\n",
       "      <th>day</th>\n",
       "      <th>date</th>\n",
       "      <th>time</th>\n",
       "      <th>home</th>\n",
       "      <th>xg</th>\n",
       "      <th>score</th>\n",
       "      <th>xg.1</th>\n",
       "      <th>away</th>\n",
       "      <th>...</th>\n",
       "      <th>referee</th>\n",
       "      <th>match_report</th>\n",
       "      <th>notes</th>\n",
       "      <th>url</th>\n",
       "      <th>match_id</th>\n",
       "      <th>home_id</th>\n",
       "      <th>away_id</th>\n",
       "      <th>competition</th>\n",
       "      <th>season</th>\n",
       "      <th>inserted_timestamp</th>\n",
       "    </tr>\n",
       "  </thead>\n",
       "  <tbody>\n",
       "    <tr>\n",
       "      <th>0</th>\n",
       "      <td>Regular Season</td>\n",
       "      <td>1</td>\n",
       "      <td>Fri</td>\n",
       "      <td>2024-08-02</td>\n",
       "      <td>20:30</td>\n",
       "      <td>Köln</td>\n",
       "      <td>2.6</td>\n",
       "      <td>1–2</td>\n",
       "      <td>1.7</td>\n",
       "      <td>Hamburger SV</td>\n",
       "      <td>...</td>\n",
       "      <td>Max Burda</td>\n",
       "      <td>Match Report</td>\n",
       "      <td></td>\n",
       "      <td>https://fbref.com/en/matches/ee0af24d/Koln-Ham...</td>\n",
       "      <td>ee0af24d</td>\n",
       "      <td>bc357bf7</td>\n",
       "      <td>26790c6a</td>\n",
       "      <td>2. Fußball-Bundesliga</td>\n",
       "      <td>2024-2025</td>\n",
       "      <td>2024-08-13 21:29:30.587800</td>\n",
       "    </tr>\n",
       "    <tr>\n",
       "      <th>1</th>\n",
       "      <td>Regular Season</td>\n",
       "      <td>1</td>\n",
       "      <td>Sat</td>\n",
       "      <td>2024-08-03</td>\n",
       "      <td>13:00</td>\n",
       "      <td>Hertha BSC</td>\n",
       "      <td>0.4</td>\n",
       "      <td>1–2</td>\n",
       "      <td>1.7</td>\n",
       "      <td>Paderborn 07</td>\n",
       "      <td>...</td>\n",
       "      <td>Wolfgang Haslberger</td>\n",
       "      <td>Match Report</td>\n",
       "      <td></td>\n",
       "      <td>https://fbref.com/en/matches/6f5f7c69/Hertha-B...</td>\n",
       "      <td>6f5f7c69</td>\n",
       "      <td>2818f8bc</td>\n",
       "      <td>d9f93f02</td>\n",
       "      <td>2. Fußball-Bundesliga</td>\n",
       "      <td>2024-2025</td>\n",
       "      <td>2024-08-13 21:29:30.587800</td>\n",
       "    </tr>\n",
       "    <tr>\n",
       "      <th>2</th>\n",
       "      <td>Regular Season</td>\n",
       "      <td>1</td>\n",
       "      <td>Sat</td>\n",
       "      <td>2024-08-03</td>\n",
       "      <td>13:00</td>\n",
       "      <td>Karlsruher</td>\n",
       "      <td>1.9</td>\n",
       "      <td>3–2</td>\n",
       "      <td>1.6</td>\n",
       "      <td>Nürnberg</td>\n",
       "      <td>...</td>\n",
       "      <td>Robin Braun</td>\n",
       "      <td>Match Report</td>\n",
       "      <td></td>\n",
       "      <td>https://fbref.com/en/matches/b85153a5/Karlsruh...</td>\n",
       "      <td>b85153a5</td>\n",
       "      <td>33ba9d7b</td>\n",
       "      <td>6f2c108c</td>\n",
       "      <td>2. Fußball-Bundesliga</td>\n",
       "      <td>2024-2025</td>\n",
       "      <td>2024-08-13 21:29:30.587800</td>\n",
       "    </tr>\n",
       "    <tr>\n",
       "      <th>3</th>\n",
       "      <td>Regular Season</td>\n",
       "      <td>1</td>\n",
       "      <td>Sat</td>\n",
       "      <td>2024-08-03</td>\n",
       "      <td>13:00</td>\n",
       "      <td>Hannover 96</td>\n",
       "      <td>2.7</td>\n",
       "      <td>2–0</td>\n",
       "      <td>0.4</td>\n",
       "      <td>Jahn R'burg</td>\n",
       "      <td>...</td>\n",
       "      <td>Michael Bacher</td>\n",
       "      <td>Match Report</td>\n",
       "      <td></td>\n",
       "      <td>https://fbref.com/en/matches/c1cd58b8/Hannover...</td>\n",
       "      <td>c1cd58b8</td>\n",
       "      <td>60b5e41f</td>\n",
       "      <td>5cb328f2</td>\n",
       "      <td>2. Fußball-Bundesliga</td>\n",
       "      <td>2024-2025</td>\n",
       "      <td>2024-08-13 21:29:30.587800</td>\n",
       "    </tr>\n",
       "    <tr>\n",
       "      <th>4</th>\n",
       "      <td>Regular Season</td>\n",
       "      <td>1</td>\n",
       "      <td>Sat</td>\n",
       "      <td>2024-08-03</td>\n",
       "      <td>13:00</td>\n",
       "      <td>Magdeburg</td>\n",
       "      <td>1.5</td>\n",
       "      <td>0–0</td>\n",
       "      <td>0.4</td>\n",
       "      <td>Elversberg</td>\n",
       "      <td>...</td>\n",
       "      <td>Florian Heft</td>\n",
       "      <td>Match Report</td>\n",
       "      <td></td>\n",
       "      <td>https://fbref.com/en/matches/c9c3d7eb/Magdebur...</td>\n",
       "      <td>c9c3d7eb</td>\n",
       "      <td>e18a73da</td>\n",
       "      <td>fe686760</td>\n",
       "      <td>2. Fußball-Bundesliga</td>\n",
       "      <td>2024-2025</td>\n",
       "      <td>2024-08-13 21:29:30.587800</td>\n",
       "    </tr>\n",
       "  </tbody>\n",
       "</table>\n",
       "<p>5 rows × 22 columns</p>\n",
       "</div>"
      ],
      "text/plain": [
       "            round wk  day        date   time         home   xg score xg.1  \\\n",
       "0  Regular Season  1  Fri  2024-08-02  20:30         Köln  2.6   1–2  1.7   \n",
       "1  Regular Season  1  Sat  2024-08-03  13:00   Hertha BSC  0.4   1–2  1.7   \n",
       "2  Regular Season  1  Sat  2024-08-03  13:00   Karlsruher  1.9   3–2  1.6   \n",
       "3  Regular Season  1  Sat  2024-08-03  13:00  Hannover 96  2.7   2–0  0.4   \n",
       "4  Regular Season  1  Sat  2024-08-03  13:00    Magdeburg  1.5   0–0  0.4   \n",
       "\n",
       "           away  ...              referee  match_report notes  \\\n",
       "0  Hamburger SV  ...            Max Burda  Match Report         \n",
       "1  Paderborn 07  ...  Wolfgang Haslberger  Match Report         \n",
       "2      Nürnberg  ...          Robin Braun  Match Report         \n",
       "3   Jahn R'burg  ...       Michael Bacher  Match Report         \n",
       "4    Elversberg  ...         Florian Heft  Match Report         \n",
       "\n",
       "                                                 url  match_id   home_id  \\\n",
       "0  https://fbref.com/en/matches/ee0af24d/Koln-Ham...  ee0af24d  bc357bf7   \n",
       "1  https://fbref.com/en/matches/6f5f7c69/Hertha-B...  6f5f7c69  2818f8bc   \n",
       "2  https://fbref.com/en/matches/b85153a5/Karlsruh...  b85153a5  33ba9d7b   \n",
       "3  https://fbref.com/en/matches/c1cd58b8/Hannover...  c1cd58b8  60b5e41f   \n",
       "4  https://fbref.com/en/matches/c9c3d7eb/Magdebur...  c9c3d7eb  e18a73da   \n",
       "\n",
       "    away_id            competition     season         inserted_timestamp  \n",
       "0  26790c6a  2. Fußball-Bundesliga  2024-2025 2024-08-13 21:29:30.587800  \n",
       "1  d9f93f02  2. Fußball-Bundesliga  2024-2025 2024-08-13 21:29:30.587800  \n",
       "2  6f2c108c  2. Fußball-Bundesliga  2024-2025 2024-08-13 21:29:30.587800  \n",
       "3  5cb328f2  2. Fußball-Bundesliga  2024-2025 2024-08-13 21:29:30.587800  \n",
       "4  fe686760  2. Fußball-Bundesliga  2024-2025 2024-08-13 21:29:30.587800  \n",
       "\n",
       "[5 rows x 22 columns]"
      ]
     },
     "execution_count": 4,
     "metadata": {},
     "output_type": "execute_result"
    }
   ],
   "source": [
    "df.head()"
   ]
  },
  {
   "cell_type": "code",
   "execution_count": 5,
   "metadata": {},
   "outputs": [],
   "source": [
    "table_name = 'fixtures'\n",
    "matches_updates = cursor.sql(f\"SELECT * FROM df WHERE match_id NOT IN (SELECT match_id FROM postgres_db.{table_name});\").df()\n",
    "cursor.sql(f\"INSERT INTO postgres_db.{table_name} SELECT * FROM df WHERE match_id NOT IN (SELECT match_id FROM postgres_db.{table_name});\")"
   ]
  },
  {
   "cell_type": "code",
   "execution_count": 6,
   "metadata": {},
   "outputs": [
    {
     "name": "stdout",
     "output_type": "stream",
     "text": [
      "0\n"
     ]
    }
   ],
   "source": [
    "if matches_updates.empty:\n",
    "    print(\"0\")\n",
    "else:\n",
    "    print(\"1\")"
   ]
  },
  {
   "cell_type": "markdown",
   "metadata": {},
   "source": [
    "# Create Team Table"
   ]
  },
  {
   "cell_type": "code",
   "execution_count": 7,
   "metadata": {},
   "outputs": [],
   "source": [
    "teams = fb_stats.get_teams(df)"
   ]
  },
  {
   "cell_type": "code",
   "execution_count": 8,
   "metadata": {},
   "outputs": [],
   "source": [
    "table_name = 'teams'\n",
    "cursor.sql(f\"INSERT INTO postgres_db.{table_name} SELECT * FROM teams WHERE team_id NOT IN (SELECT team_id FROM postgres_db.{table_name});\")"
   ]
  },
  {
   "cell_type": "markdown",
   "metadata": {},
   "source": [
    "# Create Scores Table"
   ]
  },
  {
   "cell_type": "code",
   "execution_count": 9,
   "metadata": {},
   "outputs": [],
   "source": [
    "scores = fb_stats.transform_scores(df)"
   ]
  },
  {
   "cell_type": "code",
   "execution_count": 10,
   "metadata": {},
   "outputs": [],
   "source": [
    "table_name = 'scores'\n",
    "cursor.sql(f\"INSERT INTO postgres_db.{table_name} SELECT * FROM scores WHERE match_id NOT IN (SELECT match_id FROM postgres_db.{table_name});\")"
   ]
  },
  {
   "cell_type": "markdown",
   "metadata": {},
   "source": [
    "# Get Match Details"
   ]
  },
  {
   "cell_type": "code",
   "execution_count": 7,
   "metadata": {},
   "outputs": [],
   "source": [
    "match_details = fb_stats.get_match_details(matches_updates)"
   ]
  },
  {
   "cell_type": "code",
   "execution_count": 9,
   "metadata": {},
   "outputs": [
    {
     "data": {
      "text/html": [
       "<div>\n",
       "<style scoped>\n",
       "    .dataframe tbody tr th:only-of-type {\n",
       "        vertical-align: middle;\n",
       "    }\n",
       "\n",
       "    .dataframe tbody tr th {\n",
       "        vertical-align: top;\n",
       "    }\n",
       "\n",
       "    .dataframe thead th {\n",
       "        text-align: right;\n",
       "    }\n",
       "</style>\n",
       "<table border=\"1\" class=\"dataframe\">\n",
       "  <thead>\n",
       "    <tr style=\"text-align: right;\">\n",
       "      <th></th>\n",
       "      <th>player</th>\n",
       "      <th>age</th>\n",
       "      <th>min</th>\n",
       "      <th>shots</th>\n",
       "      <th>goals</th>\n",
       "      <th>saves</th>\n",
       "      <th>save_perc</th>\n",
       "      <th>psxg</th>\n",
       "      <th>launch_completion</th>\n",
       "      <th>launch_attempts</th>\n",
       "      <th>...</th>\n",
       "      <th>goalkicks_launched_percentage</th>\n",
       "      <th>goalkicks_average_length</th>\n",
       "      <th>crosses</th>\n",
       "      <th>crosses_stopped</th>\n",
       "      <th>crosses_stopped_percentage</th>\n",
       "      <th>actions_outside_penaltyarea</th>\n",
       "      <th>actions_average_distance</th>\n",
       "      <th>match_id</th>\n",
       "      <th>competition</th>\n",
       "      <th>season</th>\n",
       "    </tr>\n",
       "  </thead>\n",
       "  <tbody>\n",
       "  </tbody>\n",
       "</table>\n",
       "<p>0 rows × 26 columns</p>\n",
       "</div>"
      ],
      "text/plain": [
       "Empty DataFrame\n",
       "Columns: [player, age, min, shots, goals, saves, save_perc, psxg, launch_completion, launch_attempts, launch_comp_percentage, pass_attempt, throws, launch_percentage, pass_average_length, goalkicks, goalkicks_launched_percentage, goalkicks_average_length, crosses, crosses_stopped, crosses_stopped_percentage, actions_outside_penaltyarea, actions_average_distance, match_id, competition, season]\n",
       "Index: []\n",
       "\n",
       "[0 rows x 26 columns]"
      ]
     },
     "execution_count": 9,
     "metadata": {},
     "output_type": "execute_result"
    }
   ],
   "source": [
    "match_details[1]"
   ]
  },
  {
   "cell_type": "markdown",
   "metadata": {},
   "source": [
    "# Goalkeeper Match Stats"
   ]
  },
  {
   "cell_type": "code",
   "execution_count": 10,
   "metadata": {},
   "outputs": [],
   "source": [
    "gk_stats = match_details[1]"
   ]
  },
  {
   "cell_type": "code",
   "execution_count": 11,
   "metadata": {},
   "outputs": [],
   "source": [
    "table_name = 'gk_stats'\n",
    "# cursor.sql(f\"CREATE TABLE IF NOT EXISTS postgres_db.{table_name} AS SELECT * FROM gk_stats;\")\n",
    "cursor.sql(f\"INSERT INTO postgres_db.{table_name} SELECT * FROM gk_stats WHERE match_id NOT IN (SELECT match_id FROM postgres_db.{table_name});\")"
   ]
  },
  {
   "cell_type": "markdown",
   "metadata": {},
   "source": [
    "# Shot Stats"
   ]
  },
  {
   "cell_type": "code",
   "execution_count": 12,
   "metadata": {},
   "outputs": [],
   "source": [
    "shots = match_details[0]"
   ]
  },
  {
   "cell_type": "code",
   "execution_count": 13,
   "metadata": {},
   "outputs": [
    {
     "data": {
      "text/html": [
       "<div>\n",
       "<style scoped>\n",
       "    .dataframe tbody tr th:only-of-type {\n",
       "        vertical-align: middle;\n",
       "    }\n",
       "\n",
       "    .dataframe tbody tr th {\n",
       "        vertical-align: top;\n",
       "    }\n",
       "\n",
       "    .dataframe thead th {\n",
       "        text-align: right;\n",
       "    }\n",
       "</style>\n",
       "<table border=\"1\" class=\"dataframe\">\n",
       "  <thead>\n",
       "    <tr style=\"text-align: right;\">\n",
       "      <th></th>\n",
       "      <th>minute</th>\n",
       "      <th>player</th>\n",
       "      <th>squad</th>\n",
       "      <th>xg</th>\n",
       "      <th>psxg</th>\n",
       "      <th>outcome</th>\n",
       "      <th>distance</th>\n",
       "      <th>bodypart</th>\n",
       "      <th>notes</th>\n",
       "      <th>assist_player1</th>\n",
       "      <th>assist1</th>\n",
       "      <th>assist_player2</th>\n",
       "      <th>assist2</th>\n",
       "      <th>team_id</th>\n",
       "      <th>match_id</th>\n",
       "      <th>goalkeeper</th>\n",
       "      <th>competition</th>\n",
       "      <th>season</th>\n",
       "    </tr>\n",
       "  </thead>\n",
       "  <tbody>\n",
       "  </tbody>\n",
       "</table>\n",
       "</div>"
      ],
      "text/plain": [
       "Empty DataFrame\n",
       "Columns: [minute, player, squad, xg, psxg, outcome, distance, bodypart, notes, assist_player1, assist1, assist_player2, assist2, team_id, match_id, goalkeeper, competition, season]\n",
       "Index: []"
      ]
     },
     "execution_count": 13,
     "metadata": {},
     "output_type": "execute_result"
    }
   ],
   "source": [
    "shots.head()"
   ]
  },
  {
   "cell_type": "code",
   "execution_count": 14,
   "metadata": {},
   "outputs": [],
   "source": [
    "table_name = 'shots'\n",
    "# cursor.sql(f\"CREATE TABLE IF NOT EXISTS postgres_db.{table_name} AS SELECT * FROM shots;\")\n",
    "cursor.sql(f\"INSERT INTO postgres_db.{table_name} SELECT * FROM shots WHERE match_id NOT IN (SELECT match_id FROM postgres_db.{table_name});\")"
   ]
  },
  {
   "cell_type": "code",
   "execution_count": 162,
   "metadata": {},
   "outputs": [],
   "source": [
    "for i, row in df.loc[:1].iterrows():\n",
    "    # Declare variables match_id and url\n",
    "    match_id = df['match_id'][i]\n",
    "    url = df['url'][i]\n",
    "    home_team = df['home_id'][i]\n",
    "\n",
    "    # Read html output from match url\n",
    "    html_output = pd.read_html(url, extract_links='body')\n",
    "\n",
    "\n",
    "    ### Extract goalkeeper statistics from both goalkeeper\n",
    "    gk_columns = ['player', 'age', 'min', 'shots', 'goals',\n",
    "    'saves', 'save_perc', 'psxg', 'launch_completion', \n",
    "    'launch_attempts', 'launch_comp_percentage', \n",
    "    'pass_attempt', 'throws', 'launch_percentage', \n",
    "    'pass_average_length', 'goalkicks', 'goalkicks_launched_percentage',\n",
    "    'goalkicks_average_length', 'crosses', 'crosses_stopped', \n",
    "    'crosses_stopped_percentage', 'actions_outside_penaltyarea', 'actions_average_distance']\n",
    "    \n",
    "    # Create home goalkeeper dataframe\n",
    "    gk1_exp = html_output[9].explode(list(html_output[9].columns)).drop([\"('Unnamed: 1_level_0',   'Nation')\"], axis=1, errors='ignore')\n",
    "    gk1_output = gk1_exp.groupby(gk1_exp.index).first()\n",
    "    \n",
    "    # Create away goalkeeper dataframe\n",
    "    gk2_exp = html_output[16].explode(list(html_output[16].columns)).drop([\"('Unnamed: 1_level_0', 'Nation')\"], axis=1, errors='ignore')\n",
    "    gk2_output = gk2_exp.groupby(gk2_exp.index).first()\n",
    "\n",
    "    # # Combine home and away GK dataframes\n",
    "    gk_all_output = pd.concat([gk1_output, gk2_output])\n",
    "    # gk_all_output = gk_all_output.set_axis(gk_columns, axis=1)"
   ]
  },
  {
   "cell_type": "code",
   "execution_count": 55,
   "metadata": {},
   "outputs": [],
   "source": [
    "gk_all_output.columns = gk_all_output.columns.map(lambda x: x[1])\n",
    "gk_all_output.drop(columns=['Nation']).reset_index().drop(columns='index')"
   ]
  },
  {
   "cell_type": "code",
   "execution_count": 59,
   "metadata": {},
   "outputs": [
    {
     "data": {
      "text/html": [
       "<div>\n",
       "<style scoped>\n",
       "    .dataframe tbody tr th:only-of-type {\n",
       "        vertical-align: middle;\n",
       "    }\n",
       "\n",
       "    .dataframe tbody tr th {\n",
       "        vertical-align: top;\n",
       "    }\n",
       "\n",
       "    .dataframe thead th {\n",
       "        text-align: right;\n",
       "    }\n",
       "</style>\n",
       "<table border=\"1\" class=\"dataframe\">\n",
       "  <thead>\n",
       "    <tr style=\"text-align: right;\">\n",
       "      <th></th>\n",
       "      <th>Player</th>\n",
       "      <th>Age</th>\n",
       "      <th>Min</th>\n",
       "      <th>SoTA</th>\n",
       "      <th>GA</th>\n",
       "      <th>Saves</th>\n",
       "      <th>Save%</th>\n",
       "      <th>PSxG</th>\n",
       "      <th>Cmp</th>\n",
       "      <th>Att</th>\n",
       "      <th>...</th>\n",
       "      <th>Launch%</th>\n",
       "      <th>AvgLen</th>\n",
       "      <th>Att</th>\n",
       "      <th>Launch%</th>\n",
       "      <th>AvgLen</th>\n",
       "      <th>Opp</th>\n",
       "      <th>Stp</th>\n",
       "      <th>Stp%</th>\n",
       "      <th>#OPA</th>\n",
       "      <th>AvgDist</th>\n",
       "    </tr>\n",
       "  </thead>\n",
       "  <tbody>\n",
       "    <tr>\n",
       "      <th>0</th>\n",
       "      <td>Hugo Lloris</td>\n",
       "      <td>37-060</td>\n",
       "      <td>90</td>\n",
       "      <td>7</td>\n",
       "      <td>1</td>\n",
       "      <td>6</td>\n",
       "      <td>100.0</td>\n",
       "      <td>1.7</td>\n",
       "      <td>6</td>\n",
       "      <td>20</td>\n",
       "      <td>...</td>\n",
       "      <td>48.4</td>\n",
       "      <td>41.9</td>\n",
       "      <td>8</td>\n",
       "      <td>62.5</td>\n",
       "      <td>42.0</td>\n",
       "      <td>13</td>\n",
       "      <td>1</td>\n",
       "      <td>7.7</td>\n",
       "      <td>0</td>\n",
       "      <td>7.0</td>\n",
       "    </tr>\n",
       "    <tr>\n",
       "      <th>1</th>\n",
       "      <td>Andrew Thomas</td>\n",
       "      <td>25-176</td>\n",
       "      <td>90</td>\n",
       "      <td>6</td>\n",
       "      <td>2</td>\n",
       "      <td>4</td>\n",
       "      <td>66.7</td>\n",
       "      <td>1.0</td>\n",
       "      <td>5</td>\n",
       "      <td>11</td>\n",
       "      <td>...</td>\n",
       "      <td>35.7</td>\n",
       "      <td>31.7</td>\n",
       "      <td>5</td>\n",
       "      <td>20.0</td>\n",
       "      <td>27.8</td>\n",
       "      <td>12</td>\n",
       "      <td>1</td>\n",
       "      <td>8.3</td>\n",
       "      <td>0</td>\n",
       "      <td>13.2</td>\n",
       "    </tr>\n",
       "  </tbody>\n",
       "</table>\n",
       "<p>2 rows × 23 columns</p>\n",
       "</div>"
      ],
      "text/plain": [
       "          Player     Age Min SoTA GA Saves  Save% PSxG Cmp Att  ... Launch%  \\\n",
       "0    Hugo Lloris  37-060  90    7  1     6  100.0  1.7   6  20  ...    48.4   \n",
       "1  Andrew Thomas  25-176  90    6  2     4   66.7  1.0   5  11  ...    35.7   \n",
       "\n",
       "  AvgLen Att Launch% AvgLen Opp Stp Stp% #OPA AvgDist  \n",
       "0   41.9   8    62.5   42.0  13   1  7.7    0     7.0  \n",
       "1   31.7   5    20.0   27.8  12   1  8.3    0    13.2  \n",
       "\n",
       "[2 rows x 23 columns]"
      ]
     },
     "execution_count": 59,
     "metadata": {},
     "output_type": "execute_result"
    }
   ],
   "source": [
    "gk_all_output.drop(columns=['Nation']).reset_index().drop(columns='index')\n",
    "# gk_all_output"
   ]
  },
  {
   "cell_type": "code",
   "execution_count": 297,
   "metadata": {},
   "outputs": [
    {
     "data": {
      "text/html": [
       "<div>\n",
       "<style scoped>\n",
       "    .dataframe tbody tr th:only-of-type {\n",
       "        vertical-align: middle;\n",
       "    }\n",
       "\n",
       "    .dataframe tbody tr th {\n",
       "        vertical-align: top;\n",
       "    }\n",
       "\n",
       "    .dataframe thead th {\n",
       "        text-align: right;\n",
       "    }\n",
       "</style>\n",
       "<table border=\"1\" class=\"dataframe\">\n",
       "  <thead>\n",
       "    <tr style=\"text-align: right;\">\n",
       "      <th></th>\n",
       "      <th>round</th>\n",
       "      <th>wk</th>\n",
       "      <th>day</th>\n",
       "      <th>date</th>\n",
       "      <th>time</th>\n",
       "      <th>home</th>\n",
       "      <th>xg</th>\n",
       "      <th>score</th>\n",
       "      <th>xg.1</th>\n",
       "      <th>away</th>\n",
       "      <th>...</th>\n",
       "      <th>referee</th>\n",
       "      <th>match_report</th>\n",
       "      <th>notes</th>\n",
       "      <th>url</th>\n",
       "      <th>match_id</th>\n",
       "      <th>home_id</th>\n",
       "      <th>away_id</th>\n",
       "      <th>competition</th>\n",
       "      <th>season</th>\n",
       "      <th>inserted_timestamp</th>\n",
       "    </tr>\n",
       "  </thead>\n",
       "  <tbody>\n",
       "  </tbody>\n",
       "</table>\n",
       "<p>0 rows × 22 columns</p>\n",
       "</div>"
      ],
      "text/plain": [
       "Empty DataFrame\n",
       "Columns: [round, wk, day, date, time, home, xg, score, xg.1, away, attendance, venue, referee, match_report, notes, url, match_id, home_id, away_id, competition, season, inserted_timestamp]\n",
       "Index: []\n",
       "\n",
       "[0 rows x 22 columns]"
      ]
     },
     "execution_count": 297,
     "metadata": {},
     "output_type": "execute_result"
    }
   ],
   "source": [
    "cursor.sql(f\"SELECT * FROM df WHERE match_id NOT IN (SELECT match_id FROM postgres_db.shots);\").df()"
   ]
  },
  {
   "cell_type": "code",
   "execution_count": 11,
   "metadata": {},
   "outputs": [],
   "source": [
    "gk_columns = ['player', 'age', 'min', 'shots', 'goals',\n",
    "'saves', 'save_perc', 'psxg', 'launch_completion', \n",
    "'launch_attempts', 'launch_comp_percentage', \n",
    "'pass_attempt', 'throws', 'launch_percentage', \n",
    "'pass_average_length', 'goalkicks', 'goalkicks_launched_percentage',\n",
    "'goalkicks_average_length', 'crosses', 'crosses_stopped', \n",
    "'crosses_stopped_percentage', 'actions_outside_penaltyarea', 'actions_average_distance']\n",
    "\n",
    "gk_stats = pd.DataFrame(columns=gk_columns)\n",
    "\n",
    "shot_columns = ['minute', 'player', 'squad', 'xg', 'psxg', 'outcome', \n",
    "                'distance', 'bodypart', 'notes', 'assist_player1', \n",
    "                'assist1', 'assist_player2', 'assist2', 'team_id', \n",
    "                'match_id', 'goalkeeper', 'competition', 'season']\n",
    "\n"
   ]
  },
  {
   "cell_type": "code",
   "execution_count": 12,
   "metadata": {},
   "outputs": [
    {
     "data": {
      "text/html": [
       "<div>\n",
       "<style scoped>\n",
       "    .dataframe tbody tr th:only-of-type {\n",
       "        vertical-align: middle;\n",
       "    }\n",
       "\n",
       "    .dataframe tbody tr th {\n",
       "        vertical-align: top;\n",
       "    }\n",
       "\n",
       "    .dataframe thead th {\n",
       "        text-align: right;\n",
       "    }\n",
       "</style>\n",
       "<table border=\"1\" class=\"dataframe\">\n",
       "  <thead>\n",
       "    <tr style=\"text-align: right;\">\n",
       "      <th></th>\n",
       "      <th>player</th>\n",
       "      <th>age</th>\n",
       "      <th>min</th>\n",
       "      <th>shots</th>\n",
       "      <th>goals</th>\n",
       "      <th>saves</th>\n",
       "      <th>save_perc</th>\n",
       "      <th>psxg</th>\n",
       "      <th>launch_completion</th>\n",
       "      <th>launch_attempts</th>\n",
       "      <th>...</th>\n",
       "      <th>launch_percentage</th>\n",
       "      <th>pass_average_length</th>\n",
       "      <th>goalkicks</th>\n",
       "      <th>goalkicks_launched_percentage</th>\n",
       "      <th>goalkicks_average_length</th>\n",
       "      <th>crosses</th>\n",
       "      <th>crosses_stopped</th>\n",
       "      <th>crosses_stopped_percentage</th>\n",
       "      <th>actions_outside_penaltyarea</th>\n",
       "      <th>actions_average_distance</th>\n",
       "    </tr>\n",
       "  </thead>\n",
       "  <tbody>\n",
       "  </tbody>\n",
       "</table>\n",
       "<p>0 rows × 23 columns</p>\n",
       "</div>"
      ],
      "text/plain": [
       "Empty DataFrame\n",
       "Columns: [player, age, min, shots, goals, saves, save_perc, psxg, launch_completion, launch_attempts, launch_comp_percentage, pass_attempt, throws, launch_percentage, pass_average_length, goalkicks, goalkicks_launched_percentage, goalkicks_average_length, crosses, crosses_stopped, crosses_stopped_percentage, actions_outside_penaltyarea, actions_average_distance]\n",
       "Index: []\n",
       "\n",
       "[0 rows x 23 columns]"
      ]
     },
     "execution_count": 12,
     "metadata": {},
     "output_type": "execute_result"
    }
   ],
   "source": [
    "gk_stats"
   ]
  },
  {
   "cell_type": "code",
   "execution_count": null,
   "metadata": {},
   "outputs": [],
   "source": []
  }
 ],
 "metadata": {
  "kernelspec": {
   "display_name": "venv",
   "language": "python",
   "name": "python3"
  },
  "language_info": {
   "codemirror_mode": {
    "name": "ipython",
    "version": 3
   },
   "file_extension": ".py",
   "mimetype": "text/x-python",
   "name": "python",
   "nbconvert_exporter": "python",
   "pygments_lexer": "ipython3",
   "version": "3.11.2"
  }
 },
 "nbformat": 4,
 "nbformat_minor": 2
}
